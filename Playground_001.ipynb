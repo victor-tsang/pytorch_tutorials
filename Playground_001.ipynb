{
  "nbformat": 4,
  "nbformat_minor": 0,
  "metadata": {
    "colab": {
      "provenance": [],
      "authorship_tag": "ABX9TyMvQQ7/FZC00djqGsTPKZjT",
      "include_colab_link": true
    },
    "kernelspec": {
      "name": "python3",
      "display_name": "Python 3"
    },
    "language_info": {
      "name": "python"
    },
    "accelerator": "GPU",
    "gpuClass": "standard"
  },
  "cells": [
    {
      "cell_type": "markdown",
      "metadata": {
        "id": "view-in-github",
        "colab_type": "text"
      },
      "source": [
        "<a href=\"https://colab.research.google.com/github/victor-tsang/pytorch_tutorials/blob/main/Playground_001.ipynb\" target=\"_parent\"><img src=\"https://colab.research.google.com/assets/colab-badge.svg\" alt=\"Open In Colab\"/></a>"
      ]
    },
    {
      "cell_type": "markdown",
      "source": [
        "Follow the materials: \n",
        "[PyTorch > Tutorials > Beginner > Basics > Quickstart](https://pytorch.org/tutorials/beginner/basics/quickstart_tutorial.html)\n",
        "\n"
      ],
      "metadata": {
        "id": "KvHhreeKDoFe"
      }
    },
    {
      "cell_type": "markdown",
      "source": [
        "**Working with data**"
      ],
      "metadata": {
        "id": "r_YUhcA7EOhm"
      }
    },
    {
      "cell_type": "code",
      "source": [
        "import torch\n",
        "from torch import nn\n",
        "from torch.utils.data import DataLoader\n",
        "from torchvision import datasets\n",
        "from torchvision.transforms import ToTensor\n",
        "\n",
        "import numpy as np\n",
        "import sklearn\n",
        "import pandas as pd\n",
        "import matplotlib.pyplot as plt\n",
        "%matplotlib inline\n",
        "\n",
        "import datetime\n"
      ],
      "metadata": {
        "id": "qHw6Lpt_ETBm"
      },
      "execution_count": 1,
      "outputs": []
    },
    {
      "cell_type": "code",
      "source": [
        "# Download training data from open datasets.\n",
        "training_data = datasets.FashionMNIST(\n",
        "    root=\"data\",\n",
        "    train=True,\n",
        "    download=True,\n",
        "    transform=ToTensor(),\n",
        ")\n",
        "\n",
        "# Download test data from open datasets.\n",
        "test_data = datasets.FashionMNIST(\n",
        "    root=\"data\",\n",
        "    train=False,\n",
        "    download=True,\n",
        "    transform=ToTensor(),\n",
        ")\n"
      ],
      "metadata": {
        "colab": {
          "base_uri": "https://localhost:8080/"
        },
        "id": "SdJZNgkYExy_",
        "outputId": "d375dd30-9d59-4f42-c6c6-dbc84b78c76f"
      },
      "execution_count": 2,
      "outputs": [
        {
          "output_type": "stream",
          "name": "stdout",
          "text": [
            "Downloading http://fashion-mnist.s3-website.eu-central-1.amazonaws.com/train-images-idx3-ubyte.gz\n",
            "Downloading http://fashion-mnist.s3-website.eu-central-1.amazonaws.com/train-images-idx3-ubyte.gz to data/FashionMNIST/raw/train-images-idx3-ubyte.gz\n"
          ]
        },
        {
          "output_type": "stream",
          "name": "stderr",
          "text": [
            "100%|██████████| 26421880/26421880 [00:02<00:00, 12158930.98it/s]\n"
          ]
        },
        {
          "output_type": "stream",
          "name": "stdout",
          "text": [
            "Extracting data/FashionMNIST/raw/train-images-idx3-ubyte.gz to data/FashionMNIST/raw\n",
            "\n",
            "Downloading http://fashion-mnist.s3-website.eu-central-1.amazonaws.com/train-labels-idx1-ubyte.gz\n",
            "Downloading http://fashion-mnist.s3-website.eu-central-1.amazonaws.com/train-labels-idx1-ubyte.gz to data/FashionMNIST/raw/train-labels-idx1-ubyte.gz\n"
          ]
        },
        {
          "output_type": "stream",
          "name": "stderr",
          "text": [
            "100%|██████████| 29515/29515 [00:00<00:00, 212039.99it/s]\n"
          ]
        },
        {
          "output_type": "stream",
          "name": "stdout",
          "text": [
            "Extracting data/FashionMNIST/raw/train-labels-idx1-ubyte.gz to data/FashionMNIST/raw\n",
            "\n",
            "Downloading http://fashion-mnist.s3-website.eu-central-1.amazonaws.com/t10k-images-idx3-ubyte.gz\n",
            "Downloading http://fashion-mnist.s3-website.eu-central-1.amazonaws.com/t10k-images-idx3-ubyte.gz to data/FashionMNIST/raw/t10k-images-idx3-ubyte.gz\n"
          ]
        },
        {
          "output_type": "stream",
          "name": "stderr",
          "text": [
            "100%|██████████| 4422102/4422102 [00:01<00:00, 3913507.88it/s]\n"
          ]
        },
        {
          "output_type": "stream",
          "name": "stdout",
          "text": [
            "Extracting data/FashionMNIST/raw/t10k-images-idx3-ubyte.gz to data/FashionMNIST/raw\n",
            "\n",
            "Downloading http://fashion-mnist.s3-website.eu-central-1.amazonaws.com/t10k-labels-idx1-ubyte.gz\n",
            "Downloading http://fashion-mnist.s3-website.eu-central-1.amazonaws.com/t10k-labels-idx1-ubyte.gz to data/FashionMNIST/raw/t10k-labels-idx1-ubyte.gz\n"
          ]
        },
        {
          "output_type": "stream",
          "name": "stderr",
          "text": [
            "100%|██████████| 5148/5148 [00:00<00:00, 6666340.53it/s]"
          ]
        },
        {
          "output_type": "stream",
          "name": "stdout",
          "text": [
            "Extracting data/FashionMNIST/raw/t10k-labels-idx1-ubyte.gz to data/FashionMNIST/raw\n",
            "\n"
          ]
        },
        {
          "output_type": "stream",
          "name": "stderr",
          "text": [
            "\n"
          ]
        }
      ]
    },
    {
      "cell_type": "code",
      "source": [
        "batch_size = 64\n",
        "\n",
        "# Create data loaders.\n",
        "train_dataloader = DataLoader(training_data, batch_size=batch_size)\n",
        "test_dataloader = DataLoader(test_data, batch_size=batch_size)\n",
        "\n",
        "for X, y in test_dataloader:\n",
        "    print(f\"Shape of X [N, C, H, W]: {X.shape}\")\n",
        "    print(f\"Shape of y: {y.shape} {y.dtype}\")\n",
        "    break\n",
        "    "
      ],
      "metadata": {
        "colab": {
          "base_uri": "https://localhost:8080/"
        },
        "id": "zd7pgRT9FdUA",
        "outputId": "50e98686-6ac8-4a44-9ae8-b25db13f527c"
      },
      "execution_count": 3,
      "outputs": [
        {
          "output_type": "stream",
          "name": "stdout",
          "text": [
            "Shape of X [N, C, H, W]: torch.Size([64, 1, 28, 28])\n",
            "Shape of y: torch.Size([64]) torch.int64\n"
          ]
        }
      ]
    },
    {
      "cell_type": "markdown",
      "source": [
        "**Creating models**"
      ],
      "metadata": {
        "id": "BmElFrVRFpBp"
      }
    },
    {
      "cell_type": "code",
      "source": [
        "# Get cpu, gpu or mps device for training.\n",
        "device = (\n",
        "    \"cuda\"\n",
        "    if torch.cuda.is_available()\n",
        "    else \"mps\"\n",
        "    if torch.backends.mps.is_available()\n",
        "    else \"cpu\"\n",
        ")\n",
        "print(f\"Using {device} device\")\n",
        "\n",
        "# Define model\n",
        "class NeuralNetwork(nn.Module):\n",
        "    def __init__(self):\n",
        "        super().__init__()\n",
        "        self.flatten = nn.Flatten()\n",
        "        self.linear_relu_stack = nn.Sequential(\n",
        "            nn.Linear(28*28, 512),\n",
        "            nn.ReLU(),\n",
        "            nn.Linear(512, 512),\n",
        "            nn.ReLU(),\n",
        "            nn.Linear(512, 10)\n",
        "        )\n",
        "\n",
        "    def forward(self, x):\n",
        "        x = self.flatten(x)\n",
        "        logits = self.linear_relu_stack(x)\n",
        "        return logits\n",
        "\n",
        "model = NeuralNetwork().to(device)\n",
        "print(model)\n",
        "\n"
      ],
      "metadata": {
        "colab": {
          "base_uri": "https://localhost:8080/"
        },
        "id": "w4u3eariFkv2",
        "outputId": "3ba5c6d9-0198-4b8f-97db-68bcd2867b16"
      },
      "execution_count": 4,
      "outputs": [
        {
          "output_type": "stream",
          "name": "stdout",
          "text": [
            "Using cuda device\n",
            "NeuralNetwork(\n",
            "  (flatten): Flatten(start_dim=1, end_dim=-1)\n",
            "  (linear_relu_stack): Sequential(\n",
            "    (0): Linear(in_features=784, out_features=512, bias=True)\n",
            "    (1): ReLU()\n",
            "    (2): Linear(in_features=512, out_features=512, bias=True)\n",
            "    (3): ReLU()\n",
            "    (4): Linear(in_features=512, out_features=10, bias=True)\n",
            "  )\n",
            ")\n"
          ]
        }
      ]
    },
    {
      "cell_type": "markdown",
      "source": [
        "**Optimizing the Model Parameters**\n"
      ],
      "metadata": {
        "id": "tJm2WcyuHldM"
      }
    },
    {
      "cell_type": "code",
      "source": [
        "loss_fn = nn.CrossEntropyLoss()\n",
        "optimizer = torch.optim.SGD(model.parameters(), lr=1e-3)\n",
        "\n",
        "def train(dataloader, model, loss_fn, optimizer):\n",
        "    size = len(dataloader.dataset)\n",
        "    model.train()\n",
        "    for batch, (X, y) in enumerate(dataloader):\n",
        "        X, y = X.to(device), y.to(device)\n",
        "\n",
        "        # Compute prediction error\n",
        "        pred = model(X)\n",
        "        loss = loss_fn(pred, y)\n",
        "\n",
        "        # Backpropagation\n",
        "        optimizer.zero_grad()\n",
        "        loss.backward()\n",
        "        optimizer.step()\n",
        "\n",
        "        if batch % 100 == 0:\n",
        "            loss, current = loss.item(), (batch + 1) * len(X)\n",
        "            print(f\"loss: {loss:>7f}  [{current:>5d}/{size:>5d}]\")\n",
        "\n",
        "def test(dataloader, model, loss_fn):\n",
        "    size = len(dataloader.dataset)\n",
        "    num_batches = len(dataloader)\n",
        "    model.eval()\n",
        "    test_loss, correct = 0, 0\n",
        "    with torch.no_grad():\n",
        "        for X, y in dataloader:\n",
        "            X, y = X.to(device), y.to(device)\n",
        "            pred = model(X)\n",
        "            test_loss += loss_fn(pred, y).item()\n",
        "            correct += (pred.argmax(1) == y).type(torch.float).sum().item()\n",
        "    test_loss /= num_batches\n",
        "    correct /= size\n",
        "    print(f\"Test Error: \\n Accuracy: {(100*correct):>0.1f}%, Avg loss: {test_loss:>8f} \\n\")\n"
      ],
      "metadata": {
        "id": "g0Vp9OwmHuEb"
      },
      "execution_count": 5,
      "outputs": []
    },
    {
      "cell_type": "code",
      "source": [
        "epochs = 5\n",
        "for t in range(epochs):\n",
        "    print(f\"Epoch {t+1}\\n-------------------------------\")\n",
        "\n",
        "    start = datetime.datetime.now()\n",
        "    train(train_dataloader, model, loss_fn, optimizer)\n",
        "    done = datetime.datetime.now()\n",
        "    test(test_dataloader, model, loss_fn)\n",
        "    finish = datetime.datetime.now()\n",
        "    print(f'        train {done - start}, test {finish - done}')\n",
        "\n",
        "print(\"Done!\")\n",
        "\n"
      ],
      "metadata": {
        "colab": {
          "base_uri": "https://localhost:8080/"
        },
        "id": "I1FsX91pICyL",
        "outputId": "da9a7202-44b2-4765-cfdb-51d747ecfea9"
      },
      "execution_count": 10,
      "outputs": [
        {
          "output_type": "stream",
          "name": "stdout",
          "text": [
            "Epoch 1\n",
            "-------------------------------\n",
            "loss: 1.168306  [   64/60000]\n",
            "loss: 1.177544  [ 6464/60000]\n",
            "loss: 1.016803  [12864/60000]\n",
            "loss: 1.163404  [19264/60000]\n",
            "loss: 1.030849  [25664/60000]\n",
            "loss: 1.089627  [32064/60000]\n",
            "loss: 1.132968  [38464/60000]\n",
            "loss: 1.072146  [44864/60000]\n",
            "loss: 1.133953  [51264/60000]\n",
            "loss: 1.077972  [57664/60000]\n",
            "Test Error: \n",
            " Accuracy: 64.7%, Avg loss: 1.093028 \n",
            "\n",
            "        train 0:00:09.970610, test 0:00:01.653099\n",
            "Epoch 2\n",
            "-------------------------------\n",
            "loss: 1.168306  [   64/60000]\n",
            "loss: 1.177544  [ 6464/60000]\n",
            "loss: 1.016803  [12864/60000]\n",
            "loss: 1.163404  [19264/60000]\n",
            "loss: 1.030849  [25664/60000]\n",
            "loss: 1.089627  [32064/60000]\n",
            "loss: 1.132968  [38464/60000]\n",
            "loss: 1.072146  [44864/60000]\n",
            "loss: 1.133953  [51264/60000]\n",
            "loss: 1.077972  [57664/60000]\n",
            "Test Error: \n",
            " Accuracy: 64.7%, Avg loss: 1.093028 \n",
            "\n",
            "        train 0:00:09.552322, test 0:00:01.821491\n",
            "Epoch 3\n",
            "-------------------------------\n",
            "loss: 1.168306  [   64/60000]\n",
            "loss: 1.177544  [ 6464/60000]\n",
            "loss: 1.016803  [12864/60000]\n",
            "loss: 1.163404  [19264/60000]\n",
            "loss: 1.030849  [25664/60000]\n",
            "loss: 1.089627  [32064/60000]\n",
            "loss: 1.132968  [38464/60000]\n",
            "loss: 1.072146  [44864/60000]\n",
            "loss: 1.133953  [51264/60000]\n",
            "loss: 1.077972  [57664/60000]\n",
            "Test Error: \n",
            " Accuracy: 64.7%, Avg loss: 1.093028 \n",
            "\n",
            "        train 0:00:09.525997, test 0:00:02.021380\n",
            "Epoch 4\n",
            "-------------------------------\n",
            "loss: 1.168306  [   64/60000]\n",
            "loss: 1.177544  [ 6464/60000]\n",
            "loss: 1.016803  [12864/60000]\n",
            "loss: 1.163404  [19264/60000]\n",
            "loss: 1.030849  [25664/60000]\n",
            "loss: 1.089627  [32064/60000]\n",
            "loss: 1.132968  [38464/60000]\n",
            "loss: 1.072146  [44864/60000]\n",
            "loss: 1.133953  [51264/60000]\n",
            "loss: 1.077972  [57664/60000]\n",
            "Test Error: \n",
            " Accuracy: 64.7%, Avg loss: 1.093028 \n",
            "\n",
            "        train 0:00:09.467004, test 0:00:01.620560\n",
            "Epoch 5\n",
            "-------------------------------\n",
            "loss: 1.168306  [   64/60000]\n",
            "loss: 1.177544  [ 6464/60000]\n",
            "loss: 1.016803  [12864/60000]\n",
            "loss: 1.163404  [19264/60000]\n",
            "loss: 1.030849  [25664/60000]\n",
            "loss: 1.089627  [32064/60000]\n",
            "loss: 1.132968  [38464/60000]\n",
            "loss: 1.072146  [44864/60000]\n",
            "loss: 1.133953  [51264/60000]\n",
            "loss: 1.077972  [57664/60000]\n",
            "Test Error: \n",
            " Accuracy: 64.7%, Avg loss: 1.093028 \n",
            "\n",
            "        train 0:00:09.847761, test 0:00:01.475335\n",
            "Done!\n"
          ]
        }
      ]
    },
    {
      "cell_type": "markdown",
      "source": [
        "**Saving models**"
      ],
      "metadata": {
        "id": "4I6etKMTIJJp"
      }
    },
    {
      "cell_type": "code",
      "source": [
        "torch.save(model.state_dict(), \"model.pth\")\n",
        "print(\"Saved PyTorch Model State to model.pth\")\n",
        "\n"
      ],
      "metadata": {
        "colab": {
          "base_uri": "https://localhost:8080/"
        },
        "id": "WJVDf3qwILrw",
        "outputId": "a30923eb-30b2-4c9c-d18e-16f3ab7d341d"
      },
      "execution_count": 7,
      "outputs": [
        {
          "output_type": "stream",
          "name": "stdout",
          "text": [
            "Saved PyTorch Model State to model.pth\n"
          ]
        }
      ]
    },
    {
      "cell_type": "markdown",
      "source": [
        "**Loading models**"
      ],
      "metadata": {
        "id": "PEBEIlBaIdbk"
      }
    },
    {
      "cell_type": "code",
      "source": [
        "model = NeuralNetwork().to(device)\n",
        "model.load_state_dict(torch.load(\"model.pth\"))\n",
        "\n"
      ],
      "metadata": {
        "colab": {
          "base_uri": "https://localhost:8080/"
        },
        "id": "O6QEe_4oIhYP",
        "outputId": "a9ff90a2-05b1-4a6d-95fa-2c99d4385b72"
      },
      "execution_count": 8,
      "outputs": [
        {
          "output_type": "execute_result",
          "data": {
            "text/plain": [
              "<All keys matched successfully>"
            ]
          },
          "metadata": {},
          "execution_count": 8
        }
      ]
    },
    {
      "cell_type": "code",
      "source": [
        "classes = [\n",
        "    \"T-shirt/top\",\n",
        "    \"Trouser\",\n",
        "    \"Pullover\",\n",
        "    \"Dress\",\n",
        "    \"Coat\",\n",
        "    \"Sandal\",\n",
        "    \"Shirt\",\n",
        "    \"Sneaker\",\n",
        "    \"Bag\",\n",
        "    \"Ankle boot\",\n",
        "]\n",
        "\n",
        "model.eval()\n",
        "x, y = test_data[0][0], test_data[0][1]\n",
        "with torch.no_grad():\n",
        "    x = x.to(device)\n",
        "    pred = model(x)\n",
        "    predicted, actual = classes[pred[0].argmax(0)], classes[y]\n",
        "    print(f'Predicted: \"{predicted}\", Actual: \"{actual}\"')\n",
        "    "
      ],
      "metadata": {
        "colab": {
          "base_uri": "https://localhost:8080/"
        },
        "id": "fObDzoM7Imji",
        "outputId": "ced0e112-38f1-4e2c-f30f-cc33ddb2e391"
      },
      "execution_count": 9,
      "outputs": [
        {
          "output_type": "stream",
          "name": "stdout",
          "text": [
            "Predicted: \"Ankle boot\", Actual: \"Ankle boot\"\n"
          ]
        }
      ]
    }
  ]
}